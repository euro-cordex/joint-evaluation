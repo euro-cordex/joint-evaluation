{
 "cells": [
  {
   "cell_type": "markdown",
   "id": "56051636-2846-4575-927d-5a7fce6e6873",
   "metadata": {},
   "source": [
    "# FWI Data Inventory"
   ]
  },
  {
   "cell_type": "markdown",
   "id": "0ca34e78-bc4e-4955-a9fb-cb10a7573a8f",
   "metadata": {},
   "source": [
    "This script directly reads from GitHub's repo joint-evaluation [catalog.csv](https://github.com/euro-cordex/joint-evaluation/blob/main/catalog.csv) and yields an overview of available hourly variables for FWI calculation\n",
    "\n",
    "***\n",
    "Note: to obtain the same results, just use the helper `availableModels(do.plot=TRUE)`\n",
    "***"
   ]
  },
  {
   "cell_type": "code",
   "execution_count": 13,
   "id": "00a7fe7e-9bba-4967-bf77-062ef73a4d2b",
   "metadata": {},
   "outputs": [],
   "source": [
    "require(magrittr)\n",
    "require(dplyr)"
   ]
  },
  {
   "cell_type": "code",
   "execution_count": 14,
   "id": "c4f16929-95af-4083-b027-be27d2bc2ad1",
   "metadata": {},
   "outputs": [],
   "source": [
    "url <- \"https://raw.githubusercontent.com/euro-cordex/joint-evaluation/refs/heads/main/catalog.csv\"\n",
    "data <- read.csv(url)"
   ]
  },
  {
   "cell_type": "code",
   "execution_count": 15,
   "id": "2e9ddf20-93ca-4f1c-a2a8-bef2c1b3dc33",
   "metadata": {},
   "outputs": [],
   "source": [
    "hourly.fwi <- subset(data,\n",
    "                     subset = frequency %in% c(\"1hr\") & variable_id %in% c(\"hurs\", \"tas\", \"sfcWind\", \"uas\", \"vas\", \"pr\"))"
   ]
  },
  {
   "cell_type": "code",
   "execution_count": 16,
   "id": "51e0c3f9-e8e9-4062-a99f-dabf350088f5",
   "metadata": {},
   "outputs": [],
   "source": [
    "# Grouped summary\n",
    "hf <- hourly.fwi %>% group_by(institution_id, driving_source_id, driving_experiment_id, source_id) "
   ]
  },
  {
   "cell_type": "code",
   "execution_count": 17,
   "id": "2bc34006-d125-4e7b-abad-4a758a84346d",
   "metadata": {},
   "outputs": [],
   "source": [
    "ids <- c(\"project_id\", \"mip_era\", \"activity_id\", \"domain_id\", \"institution_id\",\n",
    "         \"driving_source_id\", \"driving_experiment_id\", \"driving_variant_label\",\n",
    "         \"source_id\", \"version_realization\", \"frequency\", \"variable_id\")"
   ]
  },
  {
   "cell_type": "code",
   "execution_count": 18,
   "id": "f1e7bedf-7197-4ab5-ba72-27ba55ba1827",
   "metadata": {},
   "outputs": [],
   "source": [
    "## Unique rows (skip file path and variable version info)\n",
    "hf1 <- dplyr::distinct(hf, !!!syms(ids)) %>% as.data.frame()"
   ]
  },
  {
   "cell_type": "code",
   "execution_count": 19,
   "id": "98ff3998-f19b-4c34-b2ab-d346c8d61c64",
   "metadata": {},
   "outputs": [],
   "source": [
    "## Save data inventory as csv (uncomment if needed)\n",
    "# write.csv(hf1,\n",
    "#           file = paste0(\"fwi_vars_1h_eval_\", Sys.Date(), \".csv\"),\n",
    "#           row.names = FALSE)"
   ]
  },
  {
   "cell_type": "markdown",
   "id": "9fad0435-7930-40ca-9c78-522ab90173b3",
   "metadata": {},
   "source": [
    "## Data availability Matrix"
   ]
  },
  {
   "cell_type": "code",
   "execution_count": 20,
   "id": "d34d6c4e-fd6a-4f7c-a8ab-77fb9897fc4e",
   "metadata": {},
   "outputs": [],
   "source": [
    "## Label vars as 'var_id-1hr'\n",
    "hf1[[\"var_freq\"]] <- paste(hf1$variable_id, hf1$frequency, sep = \"-\")"
   ]
  },
  {
   "cell_type": "code",
   "execution_count": 21,
   "id": "874e4add-c2b8-4d78-9d8a-86b4442ec19e",
   "metadata": {},
   "outputs": [],
   "source": [
    "# Binary matrix\n",
    "binary_matrix <- table(hf1$var_freq, hf1$source_id)\n",
    "\n",
    "# matrix as data.frame (for plotting)\n",
    "binary_df <- as.data.frame(as.table(binary_matrix))"
   ]
  },
  {
   "cell_type": "code",
   "execution_count": 22,
   "id": "fc51ee0b-d549-4389-8b5b-75b35517441d",
   "metadata": {},
   "outputs": [
    {
     "data": {
      "image/png": "[encoded data removed]",
      "text/plain": [
       "plot without title"
      ]
     },
     "metadata": {
      "image/png": {
       "height": 420,
       "width": 420
      }
     },
     "output_type": "display_data"
    }
   ],
   "source": [
    "## Plotting\n",
    "require(ggplot2)\n",
    "\n",
    "ggplot2::ggplot(binary_df, aes(Var1, Var2)) +\n",
    "    geom_tile(aes(fill = Freq), color = \"gray30\") +\n",
    "    scale_fill_gradient(low = \"white\", high = \"darkblue\", guide = \"none\") +\n",
    "    labs(x = NULL, y = NULL, fill = \"Frequency\") +\n",
    "    theme_minimal() +\n",
    "    theme(axis.text.x = element_text(angle = 45, hjust = 1, size = 12),\n",
    "          axis.text.y = element_text(size = 12))"
   ]
  },
  {
   "cell_type": "markdown",
   "id": "7bbd5fc5-8da5-47e2-b791-662abda9889a",
   "metadata": {},
   "source": [
    "## Vector of complete available model names"
   ]
  },
  {
   "cell_type": "code",
   "execution_count": 30,
   "id": "aa86e8bb-b660-4395-babf-c48305f44a68",
   "metadata": {},
   "outputs": [
    {
     "data": {
      "text/html": [
       "<style>\n",
       ".list-inline {list-style: none; margin:0; padding: 0}\n",
       ".list-inline>li {display: inline-block}\n",
       ".list-inline>li:not(:last-child)::after {content: \"\\00b7\"; padding: 0 .5ex}\n",
       "</style>\n",
       "<ol class=list-inline><li>'CCLM6-0-1-URB'</li><li>'ICON-CLM-202407-1-1'</li></ol>\n"
      ],
      "text/latex": [
       "\\begin{enumerate*}\n",
       "\\item 'CCLM6-0-1-URB'\n",
       "\\item 'ICON-CLM-202407-1-1'\n",
       "\\end{enumerate*}\n"
      ],
      "text/markdown": [
       "1. 'CCLM6-0-1-URB'\n",
       "2. 'ICON-CLM-202407-1-1'\n",
       "\n",
       "\n"
      ],
      "text/plain": [
       "[1] \"CCLM6-0-1-URB\"       \"ICON-CLM-202407-1-1\""
      ]
     },
     "metadata": {},
     "output_type": "display_data"
    }
   ],
   "source": [
    "which(colSums(binary_matrix) == 4L) %>% names()"
   ]
  }
 ],
 "metadata": {
  "kernelspec": {
   "display_name": "R",
   "language": "R",
   "name": "ir"
  },
  "language_info": {
   "codemirror_mode": "r",
   "file_extension": ".r",
   "mimetype": "text/x-r-source",
   "name": "R",
   "pygments_lexer": "r",
   "version": "4.3.3"
  }
 },
 "nbformat": 4,
 "nbformat_minor": 5
}
